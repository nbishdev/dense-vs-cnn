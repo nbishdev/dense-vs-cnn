{
 "cells": [
  {
   "cell_type": "markdown",
   "id": "d61cc5be-f2fe-48f6-a3f0-2c595b54dd9d",
   "metadata": {},
   "source": [
    "# The importance of Convolutional Neural Networks\n",
    "\n",
    "## Deep Learning\n",
    "\n",
    "### This notebook presents some comparison between <b>Fully-connected neural networks</b> and <b>Convolutional Neural Networks</b> on two distinct Classification problems.\n",
    "### The datasets used in this example are <b>[MNIST](https://en.wikipedia.org/wiki/MNIST_database)</b> and <b>[SVHN](http://ufldl.stanford.edu/housenumbers)</b>."
   ]
  },
  {
   "cell_type": "markdown",
   "id": "4b25d4d2-7774-495a-b8af-24bac82b94cf",
   "metadata": {},
   "source": [
    "#### This notebook uses Python version 3.6 or newer."
   ]
  },
  {
   "cell_type": "markdown",
   "id": "8ba194a8-e331-4ee7-8e80-0b782e13d20c",
   "metadata": {},
   "source": [
    "Let's start by checking the Python version."
   ]
  },
  {
   "cell_type": "code",
   "execution_count": 1,
   "id": "aeaf2199-581e-48e6-aa9a-13076ed9eb20",
   "metadata": {},
   "outputs": [],
   "source": [
    "import sys\n",
    "\n",
    "if int(sys.version[0]) < 3 or int(sys.version[2]) < 6:\n",
    "    assert(\"Python version 3.6 or newer is required\")"
   ]
  },
  {
   "cell_type": "markdown",
   "id": "4e981609-14eb-4923-80eb-8ea5dee814a3",
   "metadata": {},
   "source": [
    "We continue by importing the necessary libraries and toolkits."
   ]
  },
  {
   "cell_type": "code",
   "execution_count": 2,
   "id": "8a64516a-4cba-4ae6-8649-eb4d9c56550b",
   "metadata": {},
   "outputs": [],
   "source": [
    "from IPython.display import clear_output\n",
    "from math import ceil\n",
    "from matplotlib.ticker import MaxNLocator\n",
    "from scipy.io import loadmat\n",
    "from sklearn.metrics import f1_score, confusion_matrix, accuracy_score, log_loss, precision_score, recall_score, precision_recall_curve\n",
    "from sklearn.model_selection import train_test_split\n",
    "from tensorflow.keras.activations import relu, sigmoid, softmax, tanh\n",
    "from tensorflow.keras import backend as B\n",
    "from tensorflow.keras.callbacks import EarlyStopping\n",
    "from tensorflow.keras.datasets import mnist\n",
    "from tensorflow.keras.layers import Conv2D, Dense, Dropout, Flatten, Input, MaxPool2D\n",
    "from tensorflow.keras.models import Sequential\n",
    "from tensorflow.keras.optimizers import Adam, SGD\n",
    "from tensorflow.keras.utils import to_categorical\n",
    "from time import time\n",
    "import matplotlib.pyplot as plt\n",
    "import numpy as np\n",
    "import os\n",
    "import random\n",
    "import requests\n",
    "\n",
    "%matplotlib inline\n",
    "\n",
    "random.seed(13)"
   ]
  },
  {
   "cell_type": "markdown",
   "id": "3dab952a-3129-4920-875e-e793ebe2df08",
   "metadata": {},
   "source": [
    "We define the functions through which we will download and load the SVHN dataset from the remote host."
   ]
  },
  {
   "cell_type": "code",
   "execution_count": 3,
   "id": "5f64418c-481f-40ac-b232-61e33a24730c",
   "metadata": {},
   "outputs": [],
   "source": [
    "def update_progress(progress, file_name):\n",
    "    bar_length = 100\n",
    "    block = int(progress)\n",
    "    clear_output(wait = True)\n",
    "    text = file_name + ' progress: [' + '#' * block + '-' * (bar_length - block) + '] ' + '{:.1f}'.format(progress) + '%'\n",
    "    print(text)\n",
    "\n",
    "def download_svhn_train(path):\n",
    "    url = 'http://ufldl.stanford.edu/housenumbers/train_32x32.mat'\n",
    "    file_name = url.split(\"/\")[-1]\n",
    "    \n",
    "    if not os.path.exists(path + file_name):\n",
    "        response = requests.get(url, allow_redirects=True, verify=False, stream=True)\n",
    "\n",
    "        with open(path + file_name, 'wb') as f:\n",
    "            total_length = response.headers.get('content-length')\n",
    "\n",
    "            if total_length is None: # no content length header\n",
    "                f.write(response.content)\n",
    "            else:\n",
    "                dl = 0\n",
    "                total_length = int(total_length)\n",
    "                for data in response.iter_content(chunk_size=8192):\n",
    "                    dl += len(data)\n",
    "                    f.write(data)\n",
    "                    done = (100. * dl / total_length)\n",
    "                    update_progress(done, file_name)\n",
    "        update_progress(100, file_name)\n",
    "    \n",
    "    return path + '/' + file_name\n",
    "\n",
    "def load_svhn_train(path=\"./train_32x32.mat\"):\n",
    "    # Load data from .mat file\n",
    "    data_raw = loadmat(path)\n",
    "    data = np.array(data_raw['X'])\n",
    "    \n",
    "    # Transform data into the correct shape and rescale pixel values\n",
    "    data = np.moveaxis(data, -1, 0) / 255.0\n",
    "    labels = data_raw['y']\n",
    "    \n",
    "    # Split dataset into training and validation set\n",
    "    X_train, X_valid, y_train, y_valid = train_test_split(data, labels, test_size=7326)\n",
    "    \n",
    "    # Labels --> one-hot encodings\n",
    "    y_train = to_categorical(y_train.reshape([-1, 1]))\n",
    "    y_valid = to_categorical(y_valid.reshape([-1, 1]))\n",
    "    \n",
    "    return X_train, y_train, X_valid, y_valid, data, labels"
   ]
  },
  {
   "cell_type": "markdown",
   "id": "85c6ecca-ba6e-4177-aa44-e32678d19a7d",
   "metadata": {},
   "source": [
    "Let's download the SVHN dataset."
   ]
  },
  {
   "cell_type": "code",
   "execution_count": 4,
   "id": "f858af5b-2984-4695-a896-e7122acfe345",
   "metadata": {},
   "outputs": [],
   "source": [
    "svhn_path = download_svhn_train('./')"
   ]
  },
  {
   "cell_type": "markdown",
   "id": "31a155d2-b748-48e7-baf6-70a8cb1ce665",
   "metadata": {},
   "source": [
    "Now we define a function through which we will build the fully-connected Neural Network Model.\n",
    "\n",
    "This function creates a fully connected (dense) neural network for multi-class classification.\n",
    "\n",
    "We use the <b>categorical_crossentropy</b> loss function and we measure the <b>accuracy</b> of the model.\n",
    "\n",
    "For the gradient descent optimization, we use <b>Stochastic Gradient Descent</b>."
   ]
  },
  {
   "cell_type": "code",
   "execution_count": 5,
   "id": "c5cf5646-6ebe-454a-b3f5-4b632938a86f",
   "metadata": {},
   "outputs": [],
   "source": [
    "def build_dense_model(X, y, activation=relu, units=[32], learning_rate=0.01):\n",
    "    \"\"\"\n",
    "    Build a Neural Network model based on the data and the parameters\n",
    "    \"\"\"\n",
    "    # Model creation\n",
    "    model = Sequential()\n",
    "    \n",
    "    # Input layer\n",
    "    model.add(Input(X.shape[1:]))\n",
    "    \n",
    "    # Flatten input (transform it into 1D array) for feeding it to the dense layers\n",
    "    model.add(Flatten())\n",
    "    \n",
    "    # Dense (intermediate) layers with dropout\n",
    "    for i in range(len(units)):\n",
    "        model.add(Dropout(rate=dropout_rate))\n",
    "        model.add(Dense(units[i], activation=activation))\n",
    "    \n",
    "    # Output layer\n",
    "    model.add(Dense(y.shape[1], activation=softmax))\n",
    "\n",
    "    # Model compilation and description\n",
    "    model.compile(optimizer=SGD(learning_rate=learning_rate), \n",
    "                  loss='categorical_crossentropy', \n",
    "                  metrics=['accuracy'])\n",
    "    model.summary()\n",
    "    \n",
    "    return model"
   ]
  },
  {
   "cell_type": "markdown",
   "id": "cc774110-002d-49b9-9719-7a10c7cb884c",
   "metadata": {},
   "source": [
    "Now we define a function through which we will build the Neural Network Model.\n",
    "\n",
    "This function creates a convolutional neural network for multi-class image classification.\n",
    "\n",
    "We use the <b>categorical_crossentropy</b> loss function and we measure the <b>accuracy</b> of the model.\n",
    "\n",
    "For the gradient descent optimization, we use <b>Adam</b>."
   ]
  },
  {
   "cell_type": "code",
   "execution_count": 6,
   "id": "348db6eb-bb64-43d2-9d1c-7ae385476018",
   "metadata": {},
   "outputs": [],
   "source": [
    "def build_cnn_model(X, y, activation=relu, kernel=(3,3), filters=[9,36,49], units=[32], dropout_rate=0.5, patience=1, learning_rate=0.01):\n",
    "    \"\"\"\n",
    "    Build a Neural Network model based on the data and the parameters\n",
    "    \"\"\"\n",
    "    # Model creation\n",
    "    model = Sequential()\n",
    "    \n",
    "    # Input layer\n",
    "    model.add(Input(X.shape[1:]))\n",
    "    \n",
    "    # Convolutional and max pooling layers\n",
    "    for i in range(len(filters)):\n",
    "        model.add(Conv2D(filters[i], kernel, padding='same', activation=activation))\n",
    "        model.add(MaxPool2D(kernel))\n",
    "    \n",
    "    # Flatten data to feed to the dense layers\n",
    "    model.add(Flatten())\n",
    "    \n",
    "    # Dense layers\n",
    "    for i in range(len(units)):\n",
    "        model.add(Dropout(rate=dropout_rate))\n",
    "        model.add(Dense(units[i], activation=activation))\n",
    "    \n",
    "    # Output layer\n",
    "    model.add(Dense(y.shape[1], activation=softmax))\n",
    "\n",
    "    # Model compilation and description\n",
    "    model.compile(optimizer=Adam(learning_rate=learning_rate), \n",
    "                  loss='categorical_crossentropy', \n",
    "                  metrics=['accuracy'])\n",
    "    model.summary()\n",
    "            \n",
    "    return model"
   ]
  },
  {
   "cell_type": "markdown",
   "id": "311a9b70-a7a2-4b44-981d-c4d4b5cd5ad7",
   "metadata": {},
   "source": [
    "## Experimentation"
   ]
  },
  {
   "cell_type": "markdown",
   "id": "0aa2df51-dae6-4bd7-8c15-2d1a856b0c24",
   "metadata": {},
   "source": [
    "#### Experiment #1\n",
    "For the first experiment we are going to use the MNIST dataset."
   ]
  },
  {
   "cell_type": "markdown",
   "id": "6bde13ee-c838-4a13-a3c2-c530b27bce5d",
   "metadata": {},
   "source": [
    "Let's load the MNIST dataset from Keras into two separate sets:\n",
    "* A training set\n",
    "* A validation set"
   ]
  },
  {
   "cell_type": "code",
   "execution_count": 7,
   "id": "63ccd0ab-d5b6-469f-a9a3-f8b0ac5dd542",
   "metadata": {},
   "outputs": [],
   "source": [
    "# Load MNIST database\n",
    "(X_train,y_train), (X_valid,y_valid) = mnist.load_data()"
   ]
  },
  {
   "cell_type": "markdown",
   "id": "01adf800-c667-485e-9c46-add0e5cacac2",
   "metadata": {},
   "source": [
    "Let's print a randomly selected sample from the training set."
   ]
  },
  {
   "cell_type": "code",
   "execution_count": 8,
   "id": "59682b6d-63b8-42a8-8642-c74af40cf82f",
   "metadata": {},
   "outputs": [
    {
     "data": {
      "image/png": "[encoded data removed]",
      "text/plain": [
       "<Figure size 432x288 with 1 Axes>"
      ]
     },
     "metadata": {
      "needs_background": "light"
     },
     "output_type": "display_data"
    }
   ],
   "source": [
    "i = random.randint(0, y_train.shape[0]-1)\n",
    "plt.title(f\"Image from class {y_train[i]}\")\n",
    "plt.imshow(X_train[i], cmap='Greys')\n",
    "plt.show()"
   ]
  },
  {
   "cell_type": "markdown",
   "id": "9be560ff-2f1c-4777-a16e-cd20b5ead50a",
   "metadata": {},
   "source": [
    "Let's calculate the distinct classes as well as the number of samples from the dataset that belong to each class."
   ]
  },
  {
   "cell_type": "code",
   "execution_count": 9,
   "id": "9ae7dad1-4c4e-4b8b-91d1-1968654809b9",
   "metadata": {},
   "outputs": [],
   "source": [
    "# Collect all labels\n",
    "labels = np.concatenate((y_train, y_valid))\n",
    "\n",
    "# Find classes from unique labels and their respective data counts\n",
    "classes, counts = np.unique(labels, return_counts=True)"
   ]
  },
  {
   "cell_type": "markdown",
   "id": "76f800e9-5489-465b-b11a-21e68e302c83",
   "metadata": {},
   "source": [
    "Let's print a histogram of the counts of the distinct digits in MNIST"
   ]
  },
  {
   "cell_type": "code",
   "execution_count": 10,
   "id": "93c98fc8-16e9-4661-bb21-468df6a72423",
   "metadata": {},
   "outputs": [
    {
     "data": {
      "image/png": "[encoded data removed]",
      "text/plain": [
       "<Figure size 432x288 with 1 Axes>"
      ]
     },
     "metadata": {
      "needs_background": "light"
     },
     "output_type": "display_data"
    }
   ],
   "source": [
    "plt.bar(classes, counts)\n",
    "plt.xticks(classes)\n",
    "plt.xlabel(\"Class\")\n",
    "plt.ylabel(\"Quantity\")\n",
    "plt.title(\"Classes vs Counts in MNIST dataset\")\n",
    "plt.show()"
   ]
  },
  {
   "cell_type": "markdown",
   "id": "23d207a0-92a8-4b02-81f0-0f36382cc895",
   "metadata": {},
   "source": [
    "Let's alter the data so that it fits our problem, by:\n",
    "* Rescaling the pixel values from [0,255] to [0,1]\n",
    "* Changing the labels of the samples from single-digit integer numbers to one-hot encoding vectors"
   ]
  },
  {
   "cell_type": "code",
   "execution_count": 11,
   "id": "4591c9eb-16b3-4acb-bfa3-5cece398765c",
   "metadata": {},
   "outputs": [],
   "source": [
    "# Rescale pixel values\n",
    "X_train = X_train / 255.0\n",
    "X_valid = X_valid / 255.0\n",
    "\n",
    "# Labels --> one-hot encodings\n",
    "y_train = to_categorical(y_train.reshape([-1, 1]))\n",
    "y_valid = to_categorical(y_valid.reshape([-1, 1]))"
   ]
  },
  {
   "cell_type": "markdown",
   "id": "73d1fa0c-832a-4e67-beec-275ca149f3fe",
   "metadata": {},
   "source": [
    "We initialize 5 distinct dictionaries to store the measurements which will be used for the model evaluation and comparisons."
   ]
  },
  {
   "cell_type": "code",
   "execution_count": 12,
   "id": "e7cb77b7-9e09-498d-ae03-4d1cb5700828",
   "metadata": {},
   "outputs": [],
   "source": [
    "# Initialize lists for data storage\n",
    "times = {'dense': [], 'conv': []}\n",
    "accuracies = {'dense': [], 'conv': []}\n",
    "losses = {'dense': [], 'conv': []}\n",
    "precisions = {'dense': [], 'conv': []}\n",
    "recalls = {'dense': [], 'conv': []}\n",
    "f1s = {'dense': [], 'conv': []}"
   ]
  },
  {
   "cell_type": "markdown",
   "id": "44618203-701e-4445-8ad5-cf603c3d1fbd",
   "metadata": {},
   "source": [
    "We are going to use the following set of parameters for the fully-connected model."
   ]
  },
  {
   "cell_type": "code",
   "execution_count": 13,
   "id": "ef906250-5cd3-43d2-8281-68003af334fb",
   "metadata": {},
   "outputs": [],
   "source": [
    "# Number of intermediate layers\n",
    "intermediate_layers = 5\n",
    "\n",
    "# Number of units per intermediate layer\n",
    "units = [32] * intermediate_layers\n",
    "\n",
    "# Dropout rate\n",
    "dropout_rate = 0.1\n",
    "\n",
    "# Learning rate\n",
    "learning_rate = 0.01\n",
    "\n",
    "# Epochs\n",
    "epochs = 10\n",
    "\n",
    "# Epochs for patience\n",
    "patience = 2\n",
    "\n",
    "# Activation function\n",
    "activation = tanh"
   ]
  },
  {
   "cell_type": "code",
   "execution_count": 14,
   "id": "efc00042-b819-4ff1-8535-32ec79c07dfc",
   "metadata": {},
   "outputs": [
    {
     "name": "stdout",
     "output_type": "stream",
     "text": [
      "Model: \"sequential\"\n",
      "_________________________________________________________________\n",
      "Layer (type)                 Output Shape              Param #   \n",
      "=================================================================\n",
      "flatten (Flatten)            (None, 784)               0         \n",
      "_________________________________________________________________\n",
      "dropout (Dropout)            (None, 784)               0         \n",
      "_________________________________________________________________\n",
      "dense (Dense)                (None, 32)                25120     \n",
      "_________________________________________________________________\n",
      "dropout_1 (Dropout)          (None, 32)                0         \n",
      "_________________________________________________________________\n",
      "dense_1 (Dense)              (None, 32)                1056      \n",
      "_________________________________________________________________\n",
      "dropout_2 (Dropout)          (None, 32)                0         \n",
      "_________________________________________________________________\n",
      "dense_2 (Dense)              (None, 32)                1056      \n",
      "_________________________________________________________________\n",
      "dropout_3 (Dropout)          (None, 32)                0         \n",
      "_________________________________________________________________\n",
      "dense_3 (Dense)              (None, 32)                1056      \n",
      "_________________________________________________________________\n",
      "dropout_4 (Dropout)          (None, 32)                0         \n",
      "_________________________________________________________________\n",
      "dense_4 (Dense)              (None, 32)                1056      \n",
      "_________________________________________________________________\n",
      "dense_5 (Dense)              (None, 10)                330       \n",
      "=================================================================\n",
      "Total params: 29,674\n",
      "Trainable params: 29,674\n",
      "Non-trainable params: 0\n",
      "_________________________________________________________________\n",
      "Train on 60000 samples, validate on 10000 samples\n",
      "Epoch 1/10\n",
      "60000/60000 [==============================] - 61s 1ms/sample - loss: 0.9791 - accuracy: 0.7113 - val_loss: 0.4308 - val_accuracy: 0.8858\n",
      "Epoch 2/10\n",
      "60000/60000 [==============================] - 63s 1ms/sample - loss: 0.4871 - accuracy: 0.8595 - val_loss: 0.3199 - val_accuracy: 0.9081\n",
      "Epoch 3/10\n",
      "60000/60000 [==============================] - 43s 724us/sample - loss: 0.4060 - accuracy: 0.8805 - val_loss: 0.2745 - val_accuracy: 0.9221\n",
      "Epoch 4/10\n",
      "60000/60000 [==============================] - 41s 683us/sample - loss: 0.3653 - accuracy: 0.8926 - val_loss: 0.2486 - val_accuracy: 0.9297\n",
      "Epoch 5/10\n",
      "60000/60000 [==============================] - 42s 692us/sample - loss: 0.3406 - accuracy: 0.9003 - val_loss: 0.2325 - val_accuracy: 0.9326\n",
      "Epoch 6/10\n",
      "60000/60000 [==============================] - 31s 512us/sample - loss: 0.3203 - accuracy: 0.9064 - val_loss: 0.2183 - val_accuracy: 0.9381\n",
      "Epoch 7/10\n",
      "60000/60000 [==============================] - 37s 610us/sample - loss: 0.3016 - accuracy: 0.9113 - val_loss: 0.2092 - val_accuracy: 0.9399\n",
      "Epoch 8/10\n",
      "60000/60000 [==============================] - 52s 869us/sample - loss: 0.2887 - accuracy: 0.9155 - val_loss: 0.1984 - val_accuracy: 0.9442\n",
      "Epoch 9/10\n",
      "60000/60000 [==============================] - 50s 827us/sample - loss: 0.2749 - accuracy: 0.9195 - val_loss: 0.1843 - val_accuracy: 0.9483\n",
      "Epoch 10/10\n",
      "60000/60000 [==============================] - 55s 915us/sample - loss: 0.2666 - accuracy: 0.9210 - val_loss: 0.1792 - val_accuracy: 0.9496\n",
      "Time (sec): 475.49553394317627\n",
      "Accuracy: 0.9445\n",
      "Loss: 1.5010552226543425\n",
      "Precision: 0.9499831136297436\n",
      "Recall: 0.9564872043930299\n",
      "F1 score: 0.9438008093996627\n"
     ]
    }
   ],
   "source": [
    "early_stopping = EarlyStopping(monitor='val_loss', mode='min', verbose=1, patience=patience, restore_best_weights=True)\n",
    "model = build_dense_model(X_train, y_train, activation, units, learning_rate)\n",
    "\n",
    "t = time()\n",
    "dense_history = model.fit(X_train, y_train, epochs=epochs, validation_data=(X_valid,y_valid), callbacks=[early_stopping])\n",
    "t = time() - t\n",
    "\n",
    "# Evaluate the model\n",
    "y_val_pred = model.predict(X_valid)\n",
    "y_val_pred_cat = (np.asarray(y_val_pred)).round()\n",
    "acc, loss, prec, rec, f1 = accuracy_score(y_valid, y_val_pred_cat), \\\n",
    "                            log_loss(y_valid, y_val_pred_cat), \\\n",
    "                            f1_score(y_valid, y_val_pred_cat, average='macro', zero_division=0), \\\n",
    "                            precision_score(y_valid, y_val_pred_cat, average='macro', zero_division=0), \\\n",
    "                            recall_score(y_valid, y_val_pred_cat, average='macro', zero_division=0)\n",
    "\n",
    "times['dense'].append(t)\n",
    "accuracies['dense'].append(acc)\n",
    "losses['dense'].append(loss)\n",
    "precisions['dense'].append(prec)\n",
    "recalls['dense'].append(rec)\n",
    "f1s['dense'].append(f1)\n",
    "\n",
    "print('Time (sec):', t)\n",
    "print('Accuracy:', acc)\n",
    "print('Loss:', loss)\n",
    "print('Precision:', prec)\n",
    "print('Recall:', rec)\n",
    "print('F1 score:', f1)"
   ]
  },
  {
   "cell_type": "markdown",
   "id": "1416ffdb-4ea9-41fe-8e82-9f066754b092",
   "metadata": {},
   "source": [
    "Change the dimensions of both training and validation sets so that they are proper for the convolutional layers."
   ]
  },
  {
   "cell_type": "code",
   "execution_count": 15,
   "id": "bb9d4a5a-78c4-4fa6-aa7a-dea50a437888",
   "metadata": {},
   "outputs": [],
   "source": [
    "X_train = np.reshape(X_train, X_train.shape+(1,))\n",
    "X_valid = np.reshape(X_valid, X_valid.shape+(1,))"
   ]
  },
  {
   "cell_type": "markdown",
   "id": "367535fe-225f-45c2-80ec-9a667aa82931",
   "metadata": {},
   "source": [
    "We are going to use the following set of parameters for the convolutional model."
   ]
  },
  {
   "cell_type": "code",
   "execution_count": 16,
   "id": "a4b7c6b5-ed81-43fd-ab7d-b81cd8693931",
   "metadata": {},
   "outputs": [],
   "source": [
    "activation = relu\n",
    "kernel = (3, 3)\n",
    "filters = [9, 36, 49]\n",
    "units = [32]\n",
    "dropout_rate = 0.1\n",
    "patience = 2\n",
    "learning_rate = 0.001\n",
    "epochs = 10"
   ]
  },
  {
   "cell_type": "code",
   "execution_count": 17,
   "id": "cc5496f9-fa19-41e5-81f0-807172ae27a1",
   "metadata": {},
   "outputs": [
    {
     "name": "stdout",
     "output_type": "stream",
     "text": [
      "Model: \"sequential_1\"\n",
      "_________________________________________________________________\n",
      "Layer (type)                 Output Shape              Param #   \n",
      "=================================================================\n",
      "conv2d (Conv2D)              (None, 28, 28, 9)         90        \n",
      "_________________________________________________________________\n",
      "max_pooling2d (MaxPooling2D) (None, 9, 9, 9)           0         \n",
      "_________________________________________________________________\n",
      "conv2d_1 (Conv2D)            (None, 9, 9, 36)          2952      \n",
      "_________________________________________________________________\n",
      "max_pooling2d_1 (MaxPooling2 (None, 3, 3, 36)          0         \n",
      "_________________________________________________________________\n",
      "conv2d_2 (Conv2D)            (None, 3, 3, 49)          15925     \n",
      "_________________________________________________________________\n",
      "max_pooling2d_2 (MaxPooling2 (None, 1, 1, 49)          0         \n",
      "_________________________________________________________________\n",
      "flatten_1 (Flatten)          (None, 49)                0         \n",
      "_________________________________________________________________\n",
      "dropout_5 (Dropout)          (None, 49)                0         \n",
      "_________________________________________________________________\n",
      "dense_6 (Dense)              (None, 32)                1600      \n",
      "_________________________________________________________________\n",
      "dense_7 (Dense)              (None, 10)                330       \n",
      "=================================================================\n",
      "Total params: 20,897\n",
      "Trainable params: 20,897\n",
      "Non-trainable params: 0\n",
      "_________________________________________________________________\n",
      "Train on 60000 samples, validate on 10000 samples\n",
      "Epoch 1/10\n",
      "60000/60000 [==============================] - 291s 5ms/sample - loss: 0.3220 - accuracy: 0.8984 - val_loss: 0.0854 - val_accuracy: 0.9721\n",
      "Epoch 2/10\n",
      "60000/60000 [==============================] - 305s 5ms/sample - loss: 0.1050 - accuracy: 0.9675 - val_loss: 0.0548 - val_accuracy: 0.9817\n",
      "Epoch 3/10\n",
      "60000/60000 [==============================] - 329s 5ms/sample - loss: 0.0784 - accuracy: 0.9760 - val_loss: 0.0462 - val_accuracy: 0.9853\n",
      "Epoch 4/10\n",
      "60000/60000 [==============================] - 313s 5ms/sample - loss: 0.0637 - accuracy: 0.9805 - val_loss: 0.0546 - val_accuracy: 0.9818\n",
      "Epoch 5/10\n",
      "60000/60000 [==============================] - 299s 5ms/sample - loss: 0.0546 - accuracy: 0.9826 - val_loss: 0.0351 - val_accuracy: 0.9877\n",
      "Epoch 6/10\n",
      "60000/60000 [==============================] - 324s 5ms/sample - loss: 0.0471 - accuracy: 0.9851 - val_loss: 0.0391 - val_accuracy: 0.9877\n",
      "Epoch 7/10\n",
      "59968/60000 [============================>.] - ETA: 0s - loss: 0.0424 - accuracy: 0.9867Restoring model weights from the end of the best epoch.\n",
      "60000/60000 [==============================] - 303s 5ms/sample - loss: 0.0424 - accuracy: 0.9867 - val_loss: 0.0542 - val_accuracy: 0.9826\n",
      "Epoch 00007: early stopping\n",
      "Time (sec): 2164.6129910945892\n",
      "Accuracy: 0.9866\n",
      "Loss: 0.39834722118377686\n",
      "Precision: 0.9874568797024563\n",
      "Recall: 0.9885400645417777\n",
      "F1 score: 0.9864352336903183\n"
     ]
    }
   ],
   "source": [
    "early_stopping = EarlyStopping(monitor='val_loss', mode='min', verbose=1, patience=patience, restore_best_weights=True)\n",
    "model = build_cnn_model(X_train, y_train, relu, kernel, filters, units, dropout_rate, patience, learning_rate)\n",
    "\n",
    "t = time()\n",
    "conv_history = model.fit(X_train, y_train, epochs=epochs, validation_data=(X_valid, y_valid), callbacks=[early_stopping])\n",
    "t = time() - t\n",
    "\n",
    "# Evaluate the model\n",
    "y_val_pred = model.predict(X_valid)\n",
    "y_val_pred_cat = (np.asarray(y_val_pred)).round()\n",
    "acc, loss, prec, rec, f1 = accuracy_score(y_valid, y_val_pred_cat), \\\n",
    "                            log_loss(y_valid, y_val_pred_cat), \\\n",
    "                            f1_score(y_valid, y_val_pred_cat, average='macro', zero_division=0), \\\n",
    "                            precision_score(y_valid, y_val_pred_cat, average='macro', zero_division=0), \\\n",
    "                            recall_score(y_valid, y_val_pred_cat, average='macro', zero_division=0)\n",
    "\n",
    "times['conv'].append(t)\n",
    "accuracies['conv'].append(acc)\n",
    "losses['conv'].append(loss)\n",
    "precisions['conv'].append(prec)\n",
    "recalls['conv'].append(rec)\n",
    "f1s['conv'].append(f1)\n",
    "\n",
    "print('Time (sec):', t)\n",
    "print('Accuracy:', acc)\n",
    "print('Loss:', loss)\n",
    "print('Precision:', prec)\n",
    "print('Recall:', rec)\n",
    "print('F1 score:', f1)"
   ]
  },
  {
   "cell_type": "markdown",
   "id": "b446f44c-ea1b-4a34-94ba-f32bf6e52ffe",
   "metadata": {},
   "source": [
    "Let's plot the accuracies and losses to see what we achieved and compare the models."
   ]
  },
  {
   "cell_type": "code",
   "execution_count": 18,
   "id": "665091d9-d8f5-49d3-871b-4afdf95794a8",
   "metadata": {},
   "outputs": [
    {
     "data": {
      "image/png": "[encoded data removed]",
      "text/plain": [
       "<Figure size 1152x432 with 2 Axes>"
      ]
     },
     "metadata": {
      "needs_background": "light"
     },
     "output_type": "display_data"
    }
   ],
   "source": [
    "fig = plt.figure(figsize=(16,6))\n",
    "\n",
    "xr = min(len(dense_history.history['accuracy']), len(conv_history.history['accuracy']))\n",
    "\n",
    "# Plot training & validation accuracy values\n",
    "plt.subplot(1, 2, 1)\n",
    "plt.plot(range(1,xr+1),dense_history.history['accuracy'][:xr])\n",
    "plt.plot(range(1,xr+1),dense_history.history['val_accuracy'][:xr])\n",
    "plt.plot(range(1,xr+1),conv_history.history['accuracy'][:xr])\n",
    "plt.plot(range(1,xr+1),conv_history.history['val_accuracy'][:xr])\n",
    "plt.title(\"Models' accuracy on MNIST\")\n",
    "plt.ylabel('Accuracy')\n",
    "plt.xlabel('Epoch')\n",
    "plt.legend(['Dense-Train', 'Dense-Validation', 'Convolutional-Train', 'Convolutional-Validation'], loc='best')\n",
    "plt.ylim(0., 1.)\n",
    "plt.xlim(1, epochs)\n",
    "plt.xticks(range(1,epochs+1))\n",
    "\n",
    "ylim = ceil(max([max(dense_history.history['loss']), max(dense_history.history['val_loss']), max(conv_history.history['loss']), max(conv_history.history['val_loss'])]))\n",
    "\n",
    "# Plot training & validation loss values\n",
    "plt.subplot(1, 2, 2)\n",
    "plt.plot(range(1,xr+1),dense_history.history['loss'][:xr])\n",
    "plt.plot(range(1,xr+1),dense_history.history['val_loss'][:xr])\n",
    "plt.plot(range(1,xr+1),conv_history.history['loss'][:xr])\n",
    "plt.plot(range(1,xr+1),conv_history.history['val_loss'][:xr])\n",
    "plt.title(\"Models' loss on MNIST\")\n",
    "plt.ylabel('Loss')\n",
    "plt.xlabel('Epoch')\n",
    "plt.legend(['Dense-Train', 'Dense-Validation', 'Convolutional-Train', 'Convolutional-Validation'], loc='best')\n",
    "plt.ylim(0., ylim)\n",
    "plt.xlim(1, epochs)\n",
    "plt.xticks(range(1,epochs+1))\n",
    "\n",
    "plt.show()\n",
    "# fig.savefig('./acc-loss-1.png')"
   ]
  },
  {
   "cell_type": "code",
   "execution_count": 19,
   "id": "7b7fad74-91b5-4078-839c-f1c50bdcddeb",
   "metadata": {},
   "outputs": [
    {
     "data": {
      "image/png": "[encoded data removed]",
      "text/plain": [
       "<Figure size 1800x1080 with 6 Axes>"
      ]
     },
     "metadata": {
      "needs_background": "light"
     },
     "output_type": "display_data"
    }
   ],
   "source": [
    "fig = plt.figure(figsize=(25,15))\n",
    "\n",
    "plt.subplot(2, 3, 1)\n",
    "plt.bar('dense', times['dense'][0], color='r', width=0.3,\n",
    "        edgecolor='grey', label='dense')\n",
    "plt.bar('convolutional', times['conv'][0], color='b', width=0.3,\n",
    "        edgecolor='grey', label='convolutional')\n",
    "plt.title('Model training time')\n",
    "plt.ylabel('Time (sec)')\n",
    "\n",
    "plt.subplot(2, 3, 2)\n",
    "plt.bar('dense', accuracies['dense'][0], color='r', width=0.3,\n",
    "        edgecolor='grey', label='dense')\n",
    "plt.bar('convolutional', accuracies['conv'][0], color='b', width=0.3,\n",
    "        edgecolor='grey', label='convolutional')\n",
    "plt.title('Model accuracy')\n",
    "plt.ylabel('Accuracy')\n",
    "\n",
    "plt.subplot(2, 3, 3)\n",
    "plt.bar('dense', losses['dense'][0], color='r', width=0.3,\n",
    "        edgecolor='grey', label='dense')\n",
    "plt.bar('convolutional', losses['conv'][0], color='b', width=0.3,\n",
    "        edgecolor='grey', label='convolutional')\n",
    "plt.title('Model loss')\n",
    "plt.ylabel('Loss')\n",
    "\n",
    "plt.subplot(2, 3, 4)\n",
    "plt.bar('dense', precisions['dense'][0], color='r', width=0.3,\n",
    "        edgecolor='grey', label='dense')\n",
    "plt.bar('convolutional', precisions['conv'][0], color='b', width=0.3,\n",
    "        edgecolor='grey', label='convolutional')\n",
    "plt.title('Model precision')\n",
    "plt.ylabel('Precision')\n",
    "\n",
    "plt.subplot(2, 3, 5)\n",
    "plt.bar('dense', recalls['dense'][0], color='r', width=0.3,\n",
    "        edgecolor='grey', label='dense')\n",
    "plt.bar('convolutional', recalls['conv'][0], color='b', width=0.3,\n",
    "        edgecolor='grey', label='convolutional')\n",
    "plt.title('Model recall')\n",
    "plt.ylabel('Recall')\n",
    "\n",
    "plt.subplot(2, 3, 6)\n",
    "plt.bar('dense', f1s['dense'][0], color='r', width=0.3,\n",
    "        edgecolor='grey', label='dense')\n",
    "plt.bar('convolutional', f1s['conv'][0], color='b', width=0.3,\n",
    "        edgecolor='grey', label='convolutional')\n",
    "plt.title('Model F1 scores')\n",
    "plt.ylabel('F1 score')\n",
    "\n",
    "plt.show()\n",
    "# fig.savefig(f'./measurements-1.png')"
   ]
  },
  {
   "cell_type": "markdown",
   "id": "599cd3ef-0434-4605-aa46-b7681435da1b",
   "metadata": {},
   "source": [
    "#### Experiment #2\n",
    "For the second experiment we are going to use the SVHN dataset."
   ]
  },
  {
   "cell_type": "markdown",
   "id": "12adbabd-8071-41ad-8491-2bdb3fb7db41",
   "metadata": {},
   "source": [
    "Let's load the SVHN dataset into two separate sets:\n",
    "* A training set\n",
    "* A validation set"
   ]
  },
  {
   "cell_type": "code",
   "execution_count": 20,
   "id": "31f0891f-b320-418c-bd63-6c158c132adb",
   "metadata": {},
   "outputs": [],
   "source": [
    "# Load SVHN dataset\n",
    "X_train, y_train, X_valid, y_valid, data, labels = load_svhn_train(svhn_path)"
   ]
  },
  {
   "cell_type": "markdown",
   "id": "59c2cff2-8f31-4b9f-97a8-b10298f5ded8",
   "metadata": {},
   "source": [
    "Let's calculate the distinct classes as well as the number of samples from the dataset that belong to each class."
   ]
  },
  {
   "cell_type": "code",
   "execution_count": 21,
   "id": "c0b454d3-7642-4c2e-a2cb-e95ef26a99b2",
   "metadata": {},
   "outputs": [],
   "source": [
    "# Find classes from unique labels and their respective data counts\n",
    "classes, counts = np.unique(labels, return_counts=True)"
   ]
  },
  {
   "cell_type": "markdown",
   "id": "61b7dd85-c53a-495d-af66-6f816190fbb6",
   "metadata": {},
   "source": [
    "Let's print a randomly selected training sample from the dataset."
   ]
  },
  {
   "cell_type": "code",
   "execution_count": 22,
   "id": "cf402450-eebc-45ac-82eb-188bece4fde1",
   "metadata": {},
   "outputs": [
    {
     "data": {
      "image/png": "[encoded data removed]",
      "text/plain": [
       "<Figure size 432x288 with 1 Axes>"
      ]
     },
     "metadata": {
      "needs_background": "light"
     },
     "output_type": "display_data"
    }
   ],
   "source": [
    "i = random.randint(0, data.shape[0]-1)\n",
    "plt.title(f\"Image from class {labels[i][0] % classes.size}\")\n",
    "plt.imshow(data[i], cmap='Greys')\n",
    "plt.show()"
   ]
  },
  {
   "cell_type": "markdown",
   "id": "3540a0de-98b4-4b0c-8fa3-36bbc7aa44ba",
   "metadata": {},
   "source": [
    "Let's print a histogram of the counts of the distinct classes in SVHN"
   ]
  },
  {
   "cell_type": "code",
   "execution_count": 23,
   "id": "cccfe10e-f639-4fad-a7b0-d9d77ca568ca",
   "metadata": {},
   "outputs": [
    {
     "data": {
      "image/png": "[encoded data removed]",
      "text/plain": [
       "<Figure size 432x288 with 1 Axes>"
      ]
     },
     "metadata": {
      "needs_background": "light"
     },
     "output_type": "display_data"
    }
   ],
   "source": [
    "plt.bar(classes % classes.size, counts)\n",
    "plt.xticks(classes % classes.size)\n",
    "plt.xlabel(\"Class\")\n",
    "plt.ylabel(\"Quantity\")\n",
    "plt.title(\"Classes vs Counts in SVHN dataset\")\n",
    "plt.show()"
   ]
  },
  {
   "cell_type": "markdown",
   "id": "b76d1390-4ce4-49ef-ad0e-2daed73172c2",
   "metadata": {},
   "source": [
    "We initialize 5 distinct dictionaries to store the measurements which will be used for the model evaluation and comparisons."
   ]
  },
  {
   "cell_type": "code",
   "execution_count": 24,
   "id": "678ffa97-76c4-401b-a389-092ce75508dd",
   "metadata": {},
   "outputs": [],
   "source": [
    "# Initialize lists for data storage\n",
    "times = {'dense': [], 'conv': []}\n",
    "accuracies = {'dense': [], 'conv': []}\n",
    "losses = {'dense': [], 'conv': []}\n",
    "precisions = {'dense': [], 'conv': []}\n",
    "recalls = {'dense': [], 'conv': []}\n",
    "f1s = {'dense': [], 'conv': []}"
   ]
  },
  {
   "cell_type": "markdown",
   "id": "51cb408a-c46f-4491-887d-9d5066afbd15",
   "metadata": {},
   "source": [
    "We are going to use the following set of parameters for the fully-connected model."
   ]
  },
  {
   "cell_type": "code",
   "execution_count": 25,
   "id": "7ccd8687-8713-4d67-87c3-2d135fd394b9",
   "metadata": {},
   "outputs": [],
   "source": [
    "# Number of intermediate layers\n",
    "intermediate_layers = 3\n",
    "\n",
    "# Number of units per intermediate layer\n",
    "units = [512] * intermediate_layers\n",
    "\n",
    "# Dropout rate\n",
    "dropout_rate = 0.1\n",
    "\n",
    "# Learning rate\n",
    "learning_rate = 0.01\n",
    "\n",
    "# Epochs\n",
    "epochs = 10\n",
    "\n",
    "# Epochs for patience\n",
    "patience = 2\n",
    "\n",
    "# Activation function\n",
    "activation = tanh"
   ]
  },
  {
   "cell_type": "code",
   "execution_count": 26,
   "id": "e2398381-3a57-435c-a8d2-9ac7c17e34da",
   "metadata": {},
   "outputs": [
    {
     "name": "stdout",
     "output_type": "stream",
     "text": [
      "Model: \"sequential_2\"\n",
      "_________________________________________________________________\n",
      "Layer (type)                 Output Shape              Param #   \n",
      "=================================================================\n",
      "flatten_2 (Flatten)          (None, 3072)              0         \n",
      "_________________________________________________________________\n",
      "dropout_6 (Dropout)          (None, 3072)              0         \n",
      "_________________________________________________________________\n",
      "dense_8 (Dense)              (None, 512)               1573376   \n",
      "_________________________________________________________________\n",
      "dropout_7 (Dropout)          (None, 512)               0         \n",
      "_________________________________________________________________\n",
      "dense_9 (Dense)              (None, 512)               262656    \n",
      "_________________________________________________________________\n",
      "dropout_8 (Dropout)          (None, 512)               0         \n",
      "_________________________________________________________________\n",
      "dense_10 (Dense)             (None, 512)               262656    \n",
      "_________________________________________________________________\n",
      "dense_11 (Dense)             (None, 11)                5643      \n",
      "=================================================================\n",
      "Total params: 2,104,331\n",
      "Trainable params: 2,104,331\n",
      "Non-trainable params: 0\n",
      "_________________________________________________________________\n",
      "Train on 65931 samples, validate on 7326 samples\n",
      "Epoch 1/10\n",
      "65931/65931 [==============================] - 86s 1ms/sample - loss: 2.2433 - accuracy: 0.1850 - val_loss: 2.1209 - val_accuracy: 0.2439\n",
      "Epoch 2/10\n",
      "65931/65931 [==============================] - 76s 1ms/sample - loss: 1.8732 - accuracy: 0.3523 - val_loss: 1.5797 - val_accuracy: 0.4610\n",
      "Epoch 3/10\n",
      "65931/65931 [==============================] - 62s 941us/sample - loss: 1.4658 - accuracy: 0.5102 - val_loss: 1.2546 - val_accuracy: 0.5913\n",
      "Epoch 4/10\n",
      "65931/65931 [==============================] - 72s 1ms/sample - loss: 1.2785 - accuracy: 0.5819 - val_loss: 1.3630 - val_accuracy: 0.5624\n",
      "Epoch 5/10\n",
      "65931/65931 [==============================] - 76s 1ms/sample - loss: 1.1766 - accuracy: 0.6196 - val_loss: 1.1272 - val_accuracy: 0.6310\n",
      "Epoch 6/10\n",
      "65931/65931 [==============================] - 70s 1ms/sample - loss: 1.1030 - accuracy: 0.6448 - val_loss: 1.0587 - val_accuracy: 0.6649\n",
      "Epoch 7/10\n",
      "65931/65931 [==============================] - 88s 1ms/sample - loss: 1.0429 - accuracy: 0.6654 - val_loss: 0.9882 - val_accuracy: 0.6884\n",
      "Epoch 8/10\n",
      "65931/65931 [==============================] - 105s 2ms/sample - loss: 0.9942 - accuracy: 0.6837 - val_loss: 0.8801 - val_accuracy: 0.7203\n",
      "Epoch 9/10\n",
      "65931/65931 [==============================] - 101s 2ms/sample - loss: 0.9550 - accuracy: 0.6936 - val_loss: 0.8992 - val_accuracy: 0.7154\n",
      "Epoch 10/10\n",
      "65931/65931 [==============================] - 88s 1ms/sample - loss: 0.9236 - accuracy: 0.7034 - val_loss: 0.8798 - val_accuracy: 0.7159\n",
      "Time (sec): 849.1323981285095\n",
      "Accuracy: 0.631995631995632\n",
      "Loss: 4.611585412037168\n",
      "Precision: 0.6385553633240533\n",
      "Recall: 0.763052018447394\n",
      "F1 score: 0.5529633182543057\n"
     ]
    }
   ],
   "source": [
    "early_stopping = EarlyStopping(monitor='val_loss', mode='min', verbose=1, patience=patience, restore_best_weights=True)\n",
    "model = build_dense_model(X_train, y_train, activation, units, learning_rate)\n",
    "\n",
    "t = time()\n",
    "dense_history = model.fit(X_train, y_train, epochs=epochs, validation_data=(X_valid,y_valid), callbacks=[early_stopping])\n",
    "t = time() - t\n",
    "\n",
    "# Evaluate the model\n",
    "y_val_pred = model.predict(X_valid)\n",
    "y_val_pred_cat = (np.asarray(y_val_pred)).round()\n",
    "acc, loss, prec, rec, f1 = accuracy_score(y_valid, y_val_pred_cat), \\\n",
    "                            log_loss(y_valid, y_val_pred_cat), \\\n",
    "                            f1_score(y_valid, y_val_pred_cat, average='macro', zero_division=0), \\\n",
    "                            precision_score(y_valid, y_val_pred_cat, average='macro', zero_division=0), \\\n",
    "                            recall_score(y_valid, y_val_pred_cat, average='macro', zero_division=0)\n",
    "\n",
    "times['dense'].append(t)\n",
    "accuracies['dense'].append(acc)\n",
    "losses['dense'].append(loss)\n",
    "precisions['dense'].append(prec)\n",
    "recalls['dense'].append(rec)\n",
    "f1s['dense'].append(f1)\n",
    "\n",
    "print('Time (sec):', t)\n",
    "print('Accuracy:', acc)\n",
    "print('Loss:', loss)\n",
    "print('Precision:', prec)\n",
    "print('Recall:', rec)\n",
    "print('F1 score:', f1)"
   ]
  },
  {
   "cell_type": "markdown",
   "id": "26c225ed-bc58-4395-8511-4a066df36c27",
   "metadata": {},
   "source": [
    "We are going to use the following set of parameters for the convolutional model."
   ]
  },
  {
   "cell_type": "code",
   "execution_count": 27,
   "id": "767fee85-a588-418e-923e-6c69f9d25007",
   "metadata": {},
   "outputs": [],
   "source": [
    "activation = relu\n",
    "kernel = (3, 3)\n",
    "filters = [9, 36, 49]\n",
    "units = [32]\n",
    "dropout_rate = 0.1\n",
    "patience = 2\n",
    "learning_rate = 0.001\n",
    "epochs = 10"
   ]
  },
  {
   "cell_type": "code",
   "execution_count": 28,
   "id": "7f58b83d-d75f-4a67-ae17-d5644b4572b5",
   "metadata": {},
   "outputs": [
    {
     "name": "stdout",
     "output_type": "stream",
     "text": [
      "Model: \"sequential_3\"\n",
      "_________________________________________________________________\n",
      "Layer (type)                 Output Shape              Param #   \n",
      "=================================================================\n",
      "conv2d_3 (Conv2D)            (None, 32, 32, 9)         252       \n",
      "_________________________________________________________________\n",
      "max_pooling2d_3 (MaxPooling2 (None, 10, 10, 9)         0         \n",
      "_________________________________________________________________\n",
      "conv2d_4 (Conv2D)            (None, 10, 10, 36)        2952      \n",
      "_________________________________________________________________\n",
      "max_pooling2d_4 (MaxPooling2 (None, 3, 3, 36)          0         \n",
      "_________________________________________________________________\n",
      "conv2d_5 (Conv2D)            (None, 3, 3, 49)          15925     \n",
      "_________________________________________________________________\n",
      "max_pooling2d_5 (MaxPooling2 (None, 1, 1, 49)          0         \n",
      "_________________________________________________________________\n",
      "flatten_3 (Flatten)          (None, 49)                0         \n",
      "_________________________________________________________________\n",
      "dropout_9 (Dropout)          (None, 49)                0         \n",
      "_________________________________________________________________\n",
      "dense_12 (Dense)             (None, 32)                1600      \n",
      "_________________________________________________________________\n",
      "dense_13 (Dense)             (None, 11)                363       \n",
      "=================================================================\n",
      "Total params: 21,092\n",
      "Trainable params: 21,092\n",
      "Non-trainable params: 0\n",
      "_________________________________________________________________\n",
      "Train on 65931 samples, validate on 7326 samples\n",
      "Epoch 1/10\n",
      "65931/65931 [==============================] - 341s 5ms/sample - loss: 1.5357 - accuracy: 0.4724 - val_loss: 0.8784 - val_accuracy: 0.7322\n",
      "Epoch 2/10\n",
      "65931/65931 [==============================] - 355s 5ms/sample - loss: 0.7943 - accuracy: 0.7482 - val_loss: 0.6904 - val_accuracy: 0.7867\n",
      "Epoch 3/10\n",
      "65931/65931 [==============================] - 343s 5ms/sample - loss: 0.6597 - accuracy: 0.7924 - val_loss: 0.6050 - val_accuracy: 0.8144\n",
      "Epoch 4/10\n",
      "65931/65931 [==============================] - 303s 5ms/sample - loss: 0.5973 - accuracy: 0.8134 - val_loss: 0.5840 - val_accuracy: 0.8210\n",
      "Epoch 5/10\n",
      "65931/65931 [==============================] - 307s 5ms/sample - loss: 0.5629 - accuracy: 0.8223 - val_loss: 0.5270 - val_accuracy: 0.8395\n",
      "Epoch 6/10\n",
      "65931/65931 [==============================] - 208s 3ms/sample - loss: 0.5339 - accuracy: 0.8325 - val_loss: 0.5306 - val_accuracy: 0.8388\n",
      "Epoch 7/10\n",
      "65931/65931 [==============================] - 167s 3ms/sample - loss: 0.5187 - accuracy: 0.8374 - val_loss: 0.5091 - val_accuracy: 0.8437\n",
      "Epoch 8/10\n",
      "65931/65931 [==============================] - 161s 2ms/sample - loss: 0.4978 - accuracy: 0.8442 - val_loss: 0.4939 - val_accuracy: 0.8546\n",
      "Epoch 9/10\n",
      "65931/65931 [==============================] - 156s 2ms/sample - loss: 0.4827 - accuracy: 0.8498 - val_loss: 0.4849 - val_accuracy: 0.8539\n",
      "Epoch 10/10\n",
      "65931/65931 [==============================] - 162s 2ms/sample - loss: 0.4722 - accuracy: 0.8507 - val_loss: 0.4848 - val_accuracy: 0.8552\n",
      "Time (sec): 2511.761091709137\n",
      "Accuracy: 0.8095823095823096\n",
      "Loss: 2.742350945536504\n",
      "Precision: 0.7688435071274007\n",
      "Recall: 0.837846063041352\n",
      "F1 score: 0.7147058166914984\n"
     ]
    }
   ],
   "source": [
    "early_stopping = EarlyStopping(monitor='val_loss', mode='min', verbose=1, patience=patience, restore_best_weights=True)\n",
    "model = build_cnn_model(X_train, y_train, relu, kernel, filters, units, dropout_rate, patience, learning_rate)\n",
    "\n",
    "t = time()\n",
    "conv_history = model.fit(X_train, y_train, epochs=epochs, validation_data=(X_valid, y_valid), callbacks=[early_stopping])\n",
    "t = time() - t\n",
    "\n",
    "# Evaluate the model\n",
    "y_val_pred = model.predict(X_valid)\n",
    "y_val_pred_cat = (np.asarray(y_val_pred)).round()\n",
    "acc, loss, prec, rec, f1 = accuracy_score(y_valid, y_val_pred_cat), \\\n",
    "                            log_loss(y_valid, y_val_pred_cat), \\\n",
    "                            f1_score(y_valid, y_val_pred_cat, average='macro', zero_division=0), \\\n",
    "                            precision_score(y_valid, y_val_pred_cat, average='macro', zero_division=0), \\\n",
    "                            recall_score(y_valid, y_val_pred_cat, average='macro', zero_division=0)\n",
    "\n",
    "times['conv'].append(t)\n",
    "accuracies['conv'].append(acc)\n",
    "losses['conv'].append(loss)\n",
    "precisions['conv'].append(prec)\n",
    "recalls['conv'].append(rec)\n",
    "f1s['conv'].append(f1)\n",
    "\n",
    "print('Time (sec):', t)\n",
    "print('Accuracy:', acc)\n",
    "print('Loss:', loss)\n",
    "print('Precision:', prec)\n",
    "print('Recall:', rec)\n",
    "print('F1 score:', f1)"
   ]
  },
  {
   "cell_type": "markdown",
   "id": "c7588128-dcf5-4cde-a590-78b43c568322",
   "metadata": {},
   "source": [
    "Let's plot the accuracies and losses to see what we achieved and compare the models."
   ]
  },
  {
   "cell_type": "code",
   "execution_count": 29,
   "id": "9749eb1c-43ea-48cf-b448-fc6db0f36d36",
   "metadata": {},
   "outputs": [
    {
     "data": {
      "image/png": "[encoded data removed]",
      "text/plain": [
       "<Figure size 1152x432 with 2 Axes>"
      ]
     },
     "metadata": {
      "needs_background": "light"
     },
     "output_type": "display_data"
    }
   ],
   "source": [
    "fig = plt.figure(figsize=(16,6))\n",
    "\n",
    "xr = min(len(dense_history.history['accuracy']), len(conv_history.history['accuracy']))\n",
    "\n",
    "# Plot training & validation accuracy values\n",
    "plt.subplot(1, 2, 1)\n",
    "plt.plot(range(1,xr+1),dense_history.history['accuracy'][:xr])\n",
    "plt.plot(range(1,xr+1),dense_history.history['val_accuracy'][:xr])\n",
    "plt.plot(range(1,xr+1),conv_history.history['accuracy'][:xr])\n",
    "plt.plot(range(1,xr+1),conv_history.history['val_accuracy'][:xr])\n",
    "plt.title(\"Models' accuracy on SVHN\")\n",
    "plt.ylabel('Accuracy')\n",
    "plt.xlabel('Epoch')\n",
    "plt.legend(['Dense-Train', 'Dense-Validation', 'Convolutional-Train', 'Convolutional-Validation'], loc='best')\n",
    "plt.ylim(0., 1.)\n",
    "plt.xlim(1, epochs)\n",
    "plt.xticks(range(1,epochs+1))\n",
    "\n",
    "ylim = ceil(max([max(dense_history.history['loss']), max(dense_history.history['val_loss']), max(conv_history.history['loss']), max(conv_history.history['val_loss'])]))\n",
    "\n",
    "# Plot training & validation loss values\n",
    "plt.subplot(1, 2, 2)\n",
    "plt.plot(range(1,xr+1),dense_history.history['loss'][:xr])\n",
    "plt.plot(range(1,xr+1),dense_history.history['val_loss'][:xr])\n",
    "plt.plot(range(1,xr+1),conv_history.history['loss'][:xr])\n",
    "plt.plot(range(1,xr+1),conv_history.history['val_loss'][:xr])\n",
    "plt.title(\"Models' loss on SVHN\")\n",
    "plt.ylabel('Loss')\n",
    "plt.xlabel('Epoch')\n",
    "plt.legend(['Dense-Train', 'Dense-Validation', 'Convolutional-Train', 'Convolutional-Validation'], loc='best')\n",
    "plt.ylim(0., ylim)\n",
    "plt.xlim(1, epochs)\n",
    "plt.xticks(range(1,epochs+1))\n",
    "\n",
    "plt.show()\n",
    "# fig.savefig('./acc-loss-2.png')"
   ]
  },
  {
   "cell_type": "code",
   "execution_count": 30,
   "id": "72cbf3d7-5ca9-49e9-bd68-b44642f14703",
   "metadata": {},
   "outputs": [
    {
     "data": {
      "image/png": "[encoded data removed]",
      "text/plain": [
       "<Figure size 1800x1080 with 6 Axes>"
      ]
     },
     "metadata": {
      "needs_background": "light"
     },
     "output_type": "display_data"
    }
   ],
   "source": [
    "fig = plt.figure(figsize=(25,15))\n",
    "\n",
    "plt.subplot(2, 3, 1)\n",
    "plt.bar('dense', times['dense'][0], color='r', width=0.3,\n",
    "        edgecolor='grey', label='dense')\n",
    "plt.bar('convolutional', times['conv'][0], color='b', width=0.3,\n",
    "        edgecolor='grey', label='convolutional')\n",
    "plt.title('Model training time')\n",
    "plt.ylabel('Time (sec)')\n",
    "\n",
    "plt.subplot(2, 3, 2)\n",
    "plt.bar('dense', accuracies['dense'][0], color='r', width=0.3,\n",
    "        edgecolor='grey', label='dense')\n",
    "plt.bar('convolutional', accuracies['conv'][0], color='b', width=0.3,\n",
    "        edgecolor='grey', label='convolutional')\n",
    "plt.title('Model accuracy')\n",
    "plt.ylabel('Accuracy')\n",
    "\n",
    "plt.subplot(2, 3, 3)\n",
    "plt.bar('dense', losses['dense'][0], color='r', width=0.3,\n",
    "        edgecolor='grey', label='dense')\n",
    "plt.bar('convolutional', losses['conv'][0], color='b', width=0.3,\n",
    "        edgecolor='grey', label='convolutional')\n",
    "plt.title('Model loss')\n",
    "plt.ylabel('Loss')\n",
    "\n",
    "plt.subplot(2, 3, 4)\n",
    "plt.bar('dense', precisions['dense'][0], color='r', width=0.3,\n",
    "        edgecolor='grey', label='dense')\n",
    "plt.bar('convolutional', precisions['conv'][0], color='b', width=0.3,\n",
    "        edgecolor='grey', label='convolutional')\n",
    "plt.title('Model precision')\n",
    "plt.ylabel('Precision')\n",
    "\n",
    "plt.subplot(2, 3, 5)\n",
    "plt.bar('dense', recalls['dense'][0], color='r', width=0.3,\n",
    "        edgecolor='grey', label='dense')\n",
    "plt.bar('convolutional', recalls['conv'][0], color='b', width=0.3,\n",
    "        edgecolor='grey', label='convolutional')\n",
    "plt.title('Model recall')\n",
    "plt.ylabel('Recall')\n",
    "\n",
    "plt.subplot(2, 3, 6)\n",
    "plt.bar('dense', f1s['dense'][0], color='r', width=0.3,\n",
    "        edgecolor='grey', label='dense')\n",
    "plt.bar('convolutional', f1s['conv'][0], color='b', width=0.3,\n",
    "        edgecolor='grey', label='convolutional')\n",
    "plt.title('Model F1 scores')\n",
    "plt.ylabel('F1 score')\n",
    "\n",
    "plt.show()\n",
    "# fig.savefig('./measurements-2.png')"
   ]
  },
  {
   "cell_type": "markdown",
   "id": "b15da6a2-b195-45cd-91dc-97ff03420718",
   "metadata": {},
   "source": [
    "### Conclusions"
   ]
  },
  {
   "cell_type": "markdown",
   "id": "d4fda538-9ff9-407f-856f-5e273a41630f",
   "metadata": {},
   "source": [
    "We can see that a very basic (not fine-tuned) convolutional neural network model always performs better than a basic (not fine-tuned) fully-connected neural network model, while needing fewer training epochs to do so.\n",
    "\n",
    "Surely, fine-tuning the hyperparameters of the model (such as #layers, #units per layer, learning rate, etc.) can result in greater accuracy and lower loss for both the fully-connected network and the convolutional neural network.\n",
    "\n",
    "However, since the convolutional neural networks were inspired by the human vision, we always expect getting better results from their use when it comes to images."
   ]
  }
 ],
 "metadata": {
  "kernelspec": {
   "display_name": "Python 3",
   "language": "python",
   "name": "python3"
  },
  "language_info": {
   "codemirror_mode": {
    "name": "ipython",
    "version": 3
   },
   "file_extension": ".py",
   "mimetype": "text/x-python",
   "name": "python",
   "nbconvert_exporter": "python",
   "pygments_lexer": "ipython3",
   "version": "3.6.13"
  }
 },
 "nbformat": 4,
 "nbformat_minor": 5
}
